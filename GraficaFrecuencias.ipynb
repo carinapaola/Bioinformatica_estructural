{
 "metadata": {
  "name": "",
  "signature": "sha256:fc0943a716593b4ed41172a8fde1b38a2d39d3c38c10570cfc4a8dab0c4784bf"
 },
 "nbformat": 3,
 "nbformat_minor": 0,
 "worksheets": [
  {
   "cells": [
    {
     "cell_type": "code",
     "collapsed": false,
     "input": [
      "#!/usr/bin/env python\n",
      "\"\"\" GraficaFrecuencias Genera una grafica con las frecuencia de las posiciones econtradas, que pasan el umbral asignado, respecto a cada secuencia.\"\"\"\n",
      "\n",
      "__author__  = 'Paola Cornejo' + 'Sarai Reyes' \n",
      "\n",
      "import re\n",
      "import math\n",
      "import pylab as p\n",
      "import numpy as np\n",
      "\n",
      "def Frequency (mydict):\n",
      "    \"\"\"#Obtiene la frecuencia de posicones N acordes al la llave que se encuentra en el diccionario donde se gurdan\"\"\"\n",
      "    count=range(0,len(mydict),)\n",
      "    freq=[]\n",
      "    for i in count:\n",
      "        qsalto=lval[i].splitlines()\n",
      "        lista=''.join(qsalto)\n",
      "        freq.append(len(lista))\n",
      "    return (freq)\n",
      "\n",
      "def SequenceValueDictionary (filex):\n",
      "    \"\"\"Lee los archivos y los tranforma a diccionarios\"\"\"\n",
      "    data=filex.readlines() \n",
      "    lseq=data[1::2]\n",
      "    lval=data[2::2]\n",
      "    dict1= {key:value for key, value in zip(lseq,lval)}\n",
      "    freq= Frequency(dict1)\n",
      "    return (freq, {key:value for key, value in zip(lseq,freq)})\n",
      "\n",
      "#Abre los archivos\n",
      "path= 'C:/Users/Toshiba/Dropbox/LCG/4to semestre/Bioinfo/proyectos/Estrcutural/Tarea 2'\n",
      "file1=open (path + '/VALORES DE N.txt', 'r')\n",
      "\n",
      "#Obtiene las frecuencias de cada secuencia\n",
      "freqN, dic1= SequenceValueDictionary(file1)\n",
      "\n",
      "#Grafica Frecuencia contra secuencia\n",
      "p.hist(freqN)\n",
      "p.xlabel('Secuencias')\n",
      "p.ylabel('Frecuencia')\n",
      "p.title('Grafica de Frecuencia e posiciones')\n"
     ],
     "language": "python",
     "metadata": {},
     "outputs": [
      {
       "metadata": {},
       "output_type": "pyout",
       "prompt_number": 103,
       "text": [
        "<matplotlib.text.Text at 0x8f9a870>"
       ]
      },
      {
       "metadata": {},
       "output_type": "display_data",
       "png": "[encoded data removed]",
       "text": [
        "<matplotlib.figure.Figure at 0x9015ab0>"
       ]
      }
     ],
     "prompt_number": 103
    }
   ],
   "metadata": {}
  }
 ]
}